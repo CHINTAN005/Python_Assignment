{
 "cells": [
  {
   "cell_type": "markdown",
   "id": "bd58dfb8",
   "metadata": {},
   "source": [
    "Data Information"
   ]
  },
  {
   "cell_type": "markdown",
   "id": "ceae35e4",
   "metadata": {
    "papermill": {
     "duration": 0.023395,
     "end_time": "2023-10-18T04:47:38.549940",
     "exception": false,
     "start_time": "2023-10-18T04:47:38.526545",
     "status": "completed"
    },
    "tags": []
   },
   "source": [
    "\n",
    "<div style=\"color: White; display: fill;\n",
    "            border-radius: 5px;\n",
    "            background-color: #362FD9;\n",
    "            font-size: 100%;\n",
    "            font-family: Verdana\">\n",
    "\n",
    "<p style=\"padding: 7px; color: Black;\">\n",
    "      <ul>  📌 <b>Customer ID</b> - Unique identifier for each customer.<br>\n",
    "        📌 <b>Age</b> - Age of the customer.<br>\n",
    "        📌 <b>Gender</b> - Gender of the customer (Male/Female).<br>\n",
    "        📌 <b>Item Purchased</b> - The item purchased by the customer.<br>\n",
    "        📌 <b>Category</b> - Category of the item purchased.<br>\n",
    "        📌 <b>Purchase Amount (USD)</b> - The amount of the purchase in USD.<br>\n",
    "        📌 <b>Location</b> - Location where the purchase was made.<br>\n",
    "        📌 <b>Size</b> - Size of the purchased item.<br>\n",
    "        📌 <b>Color</b> - Color of the purchased item.<br>\n",
    "        📌 <b>Season</b> - Season during which the purchase was made.<br>\n",
    "        📌 <b>Review Rating</b> - Rating given by the customer for the purchased item.<br>\n",
    "        📌 <b>Subscription Status</b> - Indicates if the customer has a subscription (Yes/No).<br>\n",
    "        📌 <b>Shipping Type</b> - Type of shipping chosen by the customer.<br>\n",
    "        📌 <b>Discount Applied</b> - Indicates if a discount was applied to the purchase (Yes/No).<br>\n",
    "        📌 <b>Promo Code Used</b> - Indicates if a promo code was used for the purchase (Yes/No).<br>\n",
    "        📌 <b>Previous Purchases</b> - Number of previous purchases made by the customer.<br>\n",
    "        📌 <b>Payment Method</b> - Customer's most preferred payment method.<br>\n",
    "        📌 <b>Frequency of Purchases</b> - Frequency at which the customer makes purchases (e.g., Weekly, Fortnightly, Monthly).<br><br>\n",
    "    <p style = \"padding: 3px; color: Black;\">\n"
   ]
  },
  {
   "cell_type": "markdown",
   "id": "af04f284",
   "metadata": {
    "papermill": {
     "duration": 0.023216,
     "end_time": "2023-10-18T04:47:38.596473",
     "exception": false,
     "start_time": "2023-10-18T04:47:38.573257",
     "status": "completed"
    },
    "tags": []
   },
   "source": [
    "<div style=\"padding:10px;\n",
    "            color:#E55604;\n",
    "            margin:10px;\n",
    "            font-size:130%;\n",
    "            display:fill;\n",
    "            border-radius:5px;\n",
    "            border-style: solid;\n",
    "            border-color: #FF9B50;\n",
    "            background-color:#000000;\n",
    "            overflow:hidden;\n",
    "            font-weight:400\"><b>Importing Libraries</b>\n",
    "</div>"
   ]
  },
  {
   "cell_type": "code",
   "execution_count": 1,
   "id": "6b7a8901",
   "metadata": {},
   "outputs": [],
   "source": [
    "import numpy as np\n",
    "import pandas as pd\n",
    "import matplotlib.pyplot as plt\n",
    "import seaborn as sn "
   ]
  },
  {
   "cell_type": "markdown",
   "id": "c8de6688",
   "metadata": {
    "papermill": {
     "duration": 0.024113,
     "end_time": "2023-10-18T04:47:41.099543",
     "exception": false,
     "start_time": "2023-10-18T04:47:41.075430",
     "status": "completed"
    },
    "tags": []
   },
   "source": [
    "<div style=\"padding:10px;\n",
    "            color:#E55604;\n",
    "            margin:10px;\n",
    "            font-size:130%;\n",
    "            display:fill;\n",
    "            border-radius:5px;\n",
    "            border-style: solid;\n",
    "            border-color: #FF9B50;\n",
    "            background-color:#000000;\n",
    "            overflow:hidden;\n",
    "            font-weight:400\"><b>Loading the Dataset</b>\n",
    "</div>"
   ]
  },
  {
   "cell_type": "code",
   "execution_count": 4,
   "id": "a4da07a2",
   "metadata": {},
   "outputs": [
    {
     "data": {
      "text/html": [
       "<div>\n",
       "<style scoped>\n",
       "    .dataframe tbody tr th:only-of-type {\n",
       "        vertical-align: middle;\n",
       "    }\n",
       "\n",
       "    .dataframe tbody tr th {\n",
       "        vertical-align: top;\n",
       "    }\n",
       "\n",
       "    .dataframe thead th {\n",
       "        text-align: right;\n",
       "    }\n",
       "</style>\n",
       "<table border=\"1\" class=\"dataframe\">\n",
       "  <thead>\n",
       "    <tr style=\"text-align: right;\">\n",
       "      <th></th>\n",
       "      <th>Customer ID</th>\n",
       "      <th>Age</th>\n",
       "      <th>Gender</th>\n",
       "      <th>Item Purchased</th>\n",
       "      <th>Category</th>\n",
       "      <th>Purchase Amount (USD)</th>\n",
       "      <th>Location</th>\n",
       "      <th>Size</th>\n",
       "      <th>Color</th>\n",
       "      <th>Season</th>\n",
       "      <th>Review Rating</th>\n",
       "      <th>Subscription Status</th>\n",
       "      <th>Payment Method</th>\n",
       "      <th>Shipping Type</th>\n",
       "      <th>Discount Applied</th>\n",
       "      <th>Promo Code Used</th>\n",
       "      <th>Previous Purchases</th>\n",
       "      <th>Preferred Payment Method</th>\n",
       "      <th>Frequency of Purchases</th>\n",
       "    </tr>\n",
       "  </thead>\n",
       "  <tbody>\n",
       "    <tr>\n",
       "      <th>0</th>\n",
       "      <td>1</td>\n",
       "      <td>55</td>\n",
       "      <td>Male</td>\n",
       "      <td>Blouse</td>\n",
       "      <td>Clothing</td>\n",
       "      <td>53</td>\n",
       "      <td>Kentucky</td>\n",
       "      <td>L</td>\n",
       "      <td>Gray</td>\n",
       "      <td>Winter</td>\n",
       "      <td>3.1</td>\n",
       "      <td>Yes</td>\n",
       "      <td>Credit Card</td>\n",
       "      <td>Express</td>\n",
       "      <td>Yes</td>\n",
       "      <td>Yes</td>\n",
       "      <td>14</td>\n",
       "      <td>Venmo</td>\n",
       "      <td>Fortnightly</td>\n",
       "    </tr>\n",
       "    <tr>\n",
       "      <th>1</th>\n",
       "      <td>2</td>\n",
       "      <td>19</td>\n",
       "      <td>Male</td>\n",
       "      <td>Sweater</td>\n",
       "      <td>Clothing</td>\n",
       "      <td>64</td>\n",
       "      <td>Maine</td>\n",
       "      <td>L</td>\n",
       "      <td>Maroon</td>\n",
       "      <td>Winter</td>\n",
       "      <td>3.1</td>\n",
       "      <td>Yes</td>\n",
       "      <td>Bank Transfer</td>\n",
       "      <td>Express</td>\n",
       "      <td>Yes</td>\n",
       "      <td>Yes</td>\n",
       "      <td>2</td>\n",
       "      <td>Cash</td>\n",
       "      <td>Fortnightly</td>\n",
       "    </tr>\n",
       "    <tr>\n",
       "      <th>2</th>\n",
       "      <td>3</td>\n",
       "      <td>50</td>\n",
       "      <td>Male</td>\n",
       "      <td>Jeans</td>\n",
       "      <td>Clothing</td>\n",
       "      <td>73</td>\n",
       "      <td>Massachusetts</td>\n",
       "      <td>S</td>\n",
       "      <td>Maroon</td>\n",
       "      <td>Spring</td>\n",
       "      <td>3.1</td>\n",
       "      <td>Yes</td>\n",
       "      <td>Cash</td>\n",
       "      <td>Free Shipping</td>\n",
       "      <td>Yes</td>\n",
       "      <td>Yes</td>\n",
       "      <td>23</td>\n",
       "      <td>Credit Card</td>\n",
       "      <td>Weekly</td>\n",
       "    </tr>\n",
       "    <tr>\n",
       "      <th>3</th>\n",
       "      <td>4</td>\n",
       "      <td>21</td>\n",
       "      <td>Male</td>\n",
       "      <td>Sandals</td>\n",
       "      <td>Footwear</td>\n",
       "      <td>90</td>\n",
       "      <td>Rhode Island</td>\n",
       "      <td>M</td>\n",
       "      <td>Maroon</td>\n",
       "      <td>Spring</td>\n",
       "      <td>3.5</td>\n",
       "      <td>Yes</td>\n",
       "      <td>PayPal</td>\n",
       "      <td>Next Day Air</td>\n",
       "      <td>Yes</td>\n",
       "      <td>Yes</td>\n",
       "      <td>49</td>\n",
       "      <td>PayPal</td>\n",
       "      <td>Weekly</td>\n",
       "    </tr>\n",
       "    <tr>\n",
       "      <th>4</th>\n",
       "      <td>5</td>\n",
       "      <td>45</td>\n",
       "      <td>Male</td>\n",
       "      <td>Blouse</td>\n",
       "      <td>Clothing</td>\n",
       "      <td>49</td>\n",
       "      <td>Oregon</td>\n",
       "      <td>M</td>\n",
       "      <td>Turquoise</td>\n",
       "      <td>Spring</td>\n",
       "      <td>2.7</td>\n",
       "      <td>Yes</td>\n",
       "      <td>Cash</td>\n",
       "      <td>Free Shipping</td>\n",
       "      <td>Yes</td>\n",
       "      <td>Yes</td>\n",
       "      <td>31</td>\n",
       "      <td>PayPal</td>\n",
       "      <td>Annually</td>\n",
       "    </tr>\n",
       "    <tr>\n",
       "      <th>...</th>\n",
       "      <td>...</td>\n",
       "      <td>...</td>\n",
       "      <td>...</td>\n",
       "      <td>...</td>\n",
       "      <td>...</td>\n",
       "      <td>...</td>\n",
       "      <td>...</td>\n",
       "      <td>...</td>\n",
       "      <td>...</td>\n",
       "      <td>...</td>\n",
       "      <td>...</td>\n",
       "      <td>...</td>\n",
       "      <td>...</td>\n",
       "      <td>...</td>\n",
       "      <td>...</td>\n",
       "      <td>...</td>\n",
       "      <td>...</td>\n",
       "      <td>...</td>\n",
       "      <td>...</td>\n",
       "    </tr>\n",
       "    <tr>\n",
       "      <th>3895</th>\n",
       "      <td>3896</td>\n",
       "      <td>40</td>\n",
       "      <td>Female</td>\n",
       "      <td>Hoodie</td>\n",
       "      <td>Clothing</td>\n",
       "      <td>28</td>\n",
       "      <td>Virginia</td>\n",
       "      <td>L</td>\n",
       "      <td>Turquoise</td>\n",
       "      <td>Summer</td>\n",
       "      <td>4.2</td>\n",
       "      <td>No</td>\n",
       "      <td>Cash</td>\n",
       "      <td>2-Day Shipping</td>\n",
       "      <td>No</td>\n",
       "      <td>No</td>\n",
       "      <td>32</td>\n",
       "      <td>Venmo</td>\n",
       "      <td>Weekly</td>\n",
       "    </tr>\n",
       "    <tr>\n",
       "      <th>3896</th>\n",
       "      <td>3897</td>\n",
       "      <td>52</td>\n",
       "      <td>Female</td>\n",
       "      <td>Backpack</td>\n",
       "      <td>Accessories</td>\n",
       "      <td>49</td>\n",
       "      <td>Iowa</td>\n",
       "      <td>L</td>\n",
       "      <td>White</td>\n",
       "      <td>Spring</td>\n",
       "      <td>4.5</td>\n",
       "      <td>No</td>\n",
       "      <td>PayPal</td>\n",
       "      <td>Store Pickup</td>\n",
       "      <td>No</td>\n",
       "      <td>No</td>\n",
       "      <td>41</td>\n",
       "      <td>Bank Transfer</td>\n",
       "      <td>Bi-Weekly</td>\n",
       "    </tr>\n",
       "    <tr>\n",
       "      <th>3897</th>\n",
       "      <td>3898</td>\n",
       "      <td>46</td>\n",
       "      <td>Female</td>\n",
       "      <td>Belt</td>\n",
       "      <td>Accessories</td>\n",
       "      <td>33</td>\n",
       "      <td>New Jersey</td>\n",
       "      <td>L</td>\n",
       "      <td>Green</td>\n",
       "      <td>Spring</td>\n",
       "      <td>2.9</td>\n",
       "      <td>No</td>\n",
       "      <td>Credit Card</td>\n",
       "      <td>Standard</td>\n",
       "      <td>No</td>\n",
       "      <td>No</td>\n",
       "      <td>24</td>\n",
       "      <td>Venmo</td>\n",
       "      <td>Quarterly</td>\n",
       "    </tr>\n",
       "    <tr>\n",
       "      <th>3898</th>\n",
       "      <td>3899</td>\n",
       "      <td>44</td>\n",
       "      <td>Female</td>\n",
       "      <td>Shoes</td>\n",
       "      <td>Footwear</td>\n",
       "      <td>77</td>\n",
       "      <td>Minnesota</td>\n",
       "      <td>S</td>\n",
       "      <td>Brown</td>\n",
       "      <td>Summer</td>\n",
       "      <td>3.8</td>\n",
       "      <td>No</td>\n",
       "      <td>PayPal</td>\n",
       "      <td>Express</td>\n",
       "      <td>No</td>\n",
       "      <td>No</td>\n",
       "      <td>24</td>\n",
       "      <td>Venmo</td>\n",
       "      <td>Weekly</td>\n",
       "    </tr>\n",
       "    <tr>\n",
       "      <th>3899</th>\n",
       "      <td>3900</td>\n",
       "      <td>52</td>\n",
       "      <td>Female</td>\n",
       "      <td>Handbag</td>\n",
       "      <td>Accessories</td>\n",
       "      <td>81</td>\n",
       "      <td>California</td>\n",
       "      <td>M</td>\n",
       "      <td>Beige</td>\n",
       "      <td>Spring</td>\n",
       "      <td>3.1</td>\n",
       "      <td>No</td>\n",
       "      <td>Bank Transfer</td>\n",
       "      <td>Store Pickup</td>\n",
       "      <td>No</td>\n",
       "      <td>No</td>\n",
       "      <td>33</td>\n",
       "      <td>Venmo</td>\n",
       "      <td>Quarterly</td>\n",
       "    </tr>\n",
       "  </tbody>\n",
       "</table>\n",
       "<p>3900 rows × 19 columns</p>\n",
       "</div>"
      ],
      "text/plain": [
       "      Customer ID  Age  Gender Item Purchased     Category  \\\n",
       "0               1   55    Male         Blouse     Clothing   \n",
       "1               2   19    Male        Sweater     Clothing   \n",
       "2               3   50    Male          Jeans     Clothing   \n",
       "3               4   21    Male        Sandals     Footwear   \n",
       "4               5   45    Male         Blouse     Clothing   \n",
       "...           ...  ...     ...            ...          ...   \n",
       "3895         3896   40  Female         Hoodie     Clothing   \n",
       "3896         3897   52  Female       Backpack  Accessories   \n",
       "3897         3898   46  Female           Belt  Accessories   \n",
       "3898         3899   44  Female          Shoes     Footwear   \n",
       "3899         3900   52  Female        Handbag  Accessories   \n",
       "\n",
       "      Purchase Amount (USD)       Location Size      Color  Season  \\\n",
       "0                        53       Kentucky    L       Gray  Winter   \n",
       "1                        64          Maine    L     Maroon  Winter   \n",
       "2                        73  Massachusetts    S     Maroon  Spring   \n",
       "3                        90   Rhode Island    M     Maroon  Spring   \n",
       "4                        49         Oregon    M  Turquoise  Spring   \n",
       "...                     ...            ...  ...        ...     ...   \n",
       "3895                     28       Virginia    L  Turquoise  Summer   \n",
       "3896                     49           Iowa    L      White  Spring   \n",
       "3897                     33     New Jersey    L      Green  Spring   \n",
       "3898                     77      Minnesota    S      Brown  Summer   \n",
       "3899                     81     California    M      Beige  Spring   \n",
       "\n",
       "      Review Rating Subscription Status Payment Method   Shipping Type  \\\n",
       "0               3.1                 Yes    Credit Card         Express   \n",
       "1               3.1                 Yes  Bank Transfer         Express   \n",
       "2               3.1                 Yes           Cash   Free Shipping   \n",
       "3               3.5                 Yes         PayPal    Next Day Air   \n",
       "4               2.7                 Yes           Cash   Free Shipping   \n",
       "...             ...                 ...            ...             ...   \n",
       "3895            4.2                  No           Cash  2-Day Shipping   \n",
       "3896            4.5                  No         PayPal    Store Pickup   \n",
       "3897            2.9                  No    Credit Card        Standard   \n",
       "3898            3.8                  No         PayPal         Express   \n",
       "3899            3.1                  No  Bank Transfer    Store Pickup   \n",
       "\n",
       "     Discount Applied Promo Code Used  Previous Purchases  \\\n",
       "0                 Yes             Yes                  14   \n",
       "1                 Yes             Yes                   2   \n",
       "2                 Yes             Yes                  23   \n",
       "3                 Yes             Yes                  49   \n",
       "4                 Yes             Yes                  31   \n",
       "...               ...             ...                 ...   \n",
       "3895               No              No                  32   \n",
       "3896               No              No                  41   \n",
       "3897               No              No                  24   \n",
       "3898               No              No                  24   \n",
       "3899               No              No                  33   \n",
       "\n",
       "     Preferred Payment Method Frequency of Purchases  \n",
       "0                       Venmo            Fortnightly  \n",
       "1                        Cash            Fortnightly  \n",
       "2                 Credit Card                 Weekly  \n",
       "3                      PayPal                 Weekly  \n",
       "4                      PayPal               Annually  \n",
       "...                       ...                    ...  \n",
       "3895                    Venmo                 Weekly  \n",
       "3896            Bank Transfer              Bi-Weekly  \n",
       "3897                    Venmo              Quarterly  \n",
       "3898                    Venmo                 Weekly  \n",
       "3899                    Venmo              Quarterly  \n",
       "\n",
       "[3900 rows x 19 columns]"
      ]
     },
     "execution_count": 4,
     "metadata": {},
     "output_type": "execute_result"
    }
   ],
   "source": [
    "data = pd.read_csv(\"shopping_trends - shopping_trends.csv.csv\")\n",
    "data"
   ]
  },
  {
   "cell_type": "markdown",
   "id": "f1059920",
   "metadata": {
    "papermill": {
     "duration": 0.043671,
     "end_time": "2023-10-18T04:47:41.317187",
     "exception": false,
     "start_time": "2023-10-18T04:47:41.273516",
     "status": "completed"
    },
    "tags": []
   },
   "source": [
    "<div style=\"padding:10px;\n",
    "            color:#E55604;\n",
    "            margin:10px;\n",
    "            font-size:130%;\n",
    "            display:fill;\n",
    "            border-radius:5px;\n",
    "            border-style: solid;\n",
    "            border-color: #FF9B50;\n",
    "            background-color:#000000;\n",
    "            overflow:hidden;\n",
    "            font-weight:400\"><b>Checking the shape of the Dataset</b>\n",
    "</div>"
   ]
  },
  {
   "cell_type": "code",
   "execution_count": 7,
   "id": "952bce21",
   "metadata": {},
   "outputs": [
    {
     "data": {
      "text/plain": [
       "(3900, 19)"
      ]
     },
     "execution_count": 7,
     "metadata": {},
     "output_type": "execute_result"
    }
   ],
   "source": [
    "data.shape"
   ]
  },
  {
   "cell_type": "markdown",
   "id": "abad6a4b",
   "metadata": {
    "papermill": {
     "duration": 0.025187,
     "end_time": "2023-10-18T04:47:41.445167",
     "exception": false,
     "start_time": "2023-10-18T04:47:41.419980",
     "status": "completed"
    },
    "tags": []
   },
   "source": [
    "<div style=\"padding:10px;\n",
    "            color:#E55604;\n",
    "            margin:10px;\n",
    "            font-size:130%;\n",
    "            display:fill;\n",
    "            border-radius:5px;\n",
    "            border-style: solid;\n",
    "            border-color: #FF9B50;\n",
    "            background-color:#000000;\n",
    "            overflow:hidden;\n",
    "            font-weight:400\"><b>Checking the number of Columns in the Dataset</b>\n",
    "</div>"
   ]
  },
  {
   "cell_type": "code",
   "execution_count": 20,
   "id": "31f58204",
   "metadata": {},
   "outputs": [
    {
     "data": {
      "text/plain": [
       "19"
      ]
     },
     "execution_count": 20,
     "metadata": {},
     "output_type": "execute_result"
    }
   ],
   "source": [
    "data.shape[1]"
   ]
  },
  {
   "cell_type": "markdown",
   "id": "52b437fc",
   "metadata": {
    "papermill": {
     "duration": 0.025343,
     "end_time": "2023-10-18T04:47:41.567542",
     "exception": false,
     "start_time": "2023-10-18T04:47:41.542199",
     "status": "completed"
    },
    "tags": []
   },
   "source": [
    "<div style=\"padding:10px;\n",
    "            color:#E55604;\n",
    "            margin:10px;\n",
    "            font-size:130%;\n",
    "            display:fill;\n",
    "            border-radius:5px;\n",
    "            border-style: solid;\n",
    "            border-color: #FF9B50;\n",
    "            background-color:#000000;\n",
    "            overflow:hidden;\n",
    "            font-weight:400\"><b>Information about the Dataset and describe your data</b>\n",
    "</div>"
   ]
  },
  {
   "cell_type": "code",
   "execution_count": 16,
   "id": "74dadcb6",
   "metadata": {},
   "outputs": [
    {
     "name": "stdout",
     "output_type": "stream",
     "text": [
      "<class 'pandas.core.frame.DataFrame'>\n",
      "RangeIndex: 3900 entries, 0 to 3899\n",
      "Data columns (total 19 columns):\n",
      " #   Column                    Non-Null Count  Dtype  \n",
      "---  ------                    --------------  -----  \n",
      " 0   Customer ID               3900 non-null   int64  \n",
      " 1   Age                       3900 non-null   int64  \n",
      " 2   Gender                    3900 non-null   object \n",
      " 3   Item Purchased            3900 non-null   object \n",
      " 4   Category                  3900 non-null   object \n",
      " 5   Purchase Amount (USD)     3900 non-null   int64  \n",
      " 6   Location                  3900 non-null   object \n",
      " 7   Size                      3900 non-null   object \n",
      " 8   Color                     3900 non-null   object \n",
      " 9   Season                    3900 non-null   object \n",
      " 10  Review Rating             3900 non-null   float64\n",
      " 11  Subscription Status       3900 non-null   object \n",
      " 12  Payment Method            3900 non-null   object \n",
      " 13  Shipping Type             3900 non-null   object \n",
      " 14  Discount Applied          3900 non-null   object \n",
      " 15  Promo Code Used           3900 non-null   object \n",
      " 16  Previous Purchases        3900 non-null   int64  \n",
      " 17  Preferred Payment Method  3900 non-null   object \n",
      " 18  Frequency of Purchases    3900 non-null   object \n",
      "dtypes: float64(1), int64(4), object(14)\n",
      "memory usage: 579.0+ KB\n"
     ]
    }
   ],
   "source": [
    "data.info()"
   ]
  },
  {
   "cell_type": "code",
   "execution_count": 17,
   "id": "4a02891d",
   "metadata": {},
   "outputs": [
    {
     "data": {
      "text/html": [
       "<div>\n",
       "<style scoped>\n",
       "    .dataframe tbody tr th:only-of-type {\n",
       "        vertical-align: middle;\n",
       "    }\n",
       "\n",
       "    .dataframe tbody tr th {\n",
       "        vertical-align: top;\n",
       "    }\n",
       "\n",
       "    .dataframe thead th {\n",
       "        text-align: right;\n",
       "    }\n",
       "</style>\n",
       "<table border=\"1\" class=\"dataframe\">\n",
       "  <thead>\n",
       "    <tr style=\"text-align: right;\">\n",
       "      <th></th>\n",
       "      <th>Customer ID</th>\n",
       "      <th>Age</th>\n",
       "      <th>Purchase Amount (USD)</th>\n",
       "      <th>Review Rating</th>\n",
       "      <th>Previous Purchases</th>\n",
       "    </tr>\n",
       "  </thead>\n",
       "  <tbody>\n",
       "    <tr>\n",
       "      <th>count</th>\n",
       "      <td>3900.000000</td>\n",
       "      <td>3900.000000</td>\n",
       "      <td>3900.000000</td>\n",
       "      <td>3900.000000</td>\n",
       "      <td>3900.000000</td>\n",
       "    </tr>\n",
       "    <tr>\n",
       "      <th>mean</th>\n",
       "      <td>1950.500000</td>\n",
       "      <td>44.068462</td>\n",
       "      <td>59.764359</td>\n",
       "      <td>3.749949</td>\n",
       "      <td>25.351538</td>\n",
       "    </tr>\n",
       "    <tr>\n",
       "      <th>std</th>\n",
       "      <td>1125.977353</td>\n",
       "      <td>15.207589</td>\n",
       "      <td>23.685392</td>\n",
       "      <td>0.716223</td>\n",
       "      <td>14.447125</td>\n",
       "    </tr>\n",
       "    <tr>\n",
       "      <th>min</th>\n",
       "      <td>1.000000</td>\n",
       "      <td>18.000000</td>\n",
       "      <td>20.000000</td>\n",
       "      <td>2.500000</td>\n",
       "      <td>1.000000</td>\n",
       "    </tr>\n",
       "    <tr>\n",
       "      <th>25%</th>\n",
       "      <td>975.750000</td>\n",
       "      <td>31.000000</td>\n",
       "      <td>39.000000</td>\n",
       "      <td>3.100000</td>\n",
       "      <td>13.000000</td>\n",
       "    </tr>\n",
       "    <tr>\n",
       "      <th>50%</th>\n",
       "      <td>1950.500000</td>\n",
       "      <td>44.000000</td>\n",
       "      <td>60.000000</td>\n",
       "      <td>3.700000</td>\n",
       "      <td>25.000000</td>\n",
       "    </tr>\n",
       "    <tr>\n",
       "      <th>75%</th>\n",
       "      <td>2925.250000</td>\n",
       "      <td>57.000000</td>\n",
       "      <td>81.000000</td>\n",
       "      <td>4.400000</td>\n",
       "      <td>38.000000</td>\n",
       "    </tr>\n",
       "    <tr>\n",
       "      <th>max</th>\n",
       "      <td>3900.000000</td>\n",
       "      <td>70.000000</td>\n",
       "      <td>100.000000</td>\n",
       "      <td>5.000000</td>\n",
       "      <td>50.000000</td>\n",
       "    </tr>\n",
       "  </tbody>\n",
       "</table>\n",
       "</div>"
      ],
      "text/plain": [
       "       Customer ID          Age  Purchase Amount (USD)  Review Rating  \\\n",
       "count  3900.000000  3900.000000            3900.000000    3900.000000   \n",
       "mean   1950.500000    44.068462              59.764359       3.749949   \n",
       "std    1125.977353    15.207589              23.685392       0.716223   \n",
       "min       1.000000    18.000000              20.000000       2.500000   \n",
       "25%     975.750000    31.000000              39.000000       3.100000   \n",
       "50%    1950.500000    44.000000              60.000000       3.700000   \n",
       "75%    2925.250000    57.000000              81.000000       4.400000   \n",
       "max    3900.000000    70.000000             100.000000       5.000000   \n",
       "\n",
       "       Previous Purchases  \n",
       "count         3900.000000  \n",
       "mean            25.351538  \n",
       "std             14.447125  \n",
       "min              1.000000  \n",
       "25%             13.000000  \n",
       "50%             25.000000  \n",
       "75%             38.000000  \n",
       "max             50.000000  "
      ]
     },
     "execution_count": 17,
     "metadata": {},
     "output_type": "execute_result"
    }
   ],
   "source": [
    "data.describe()"
   ]
  },
  {
   "cell_type": "markdown",
   "id": "043e7720",
   "metadata": {
    "papermill": {
     "duration": 0.02569,
     "end_time": "2023-10-18T04:47:41.776806",
     "exception": false,
     "start_time": "2023-10-18T04:47:41.751116",
     "status": "completed"
    },
    "tags": []
   },
   "source": [
    "<div style=\"padding:10px;\n",
    "            color:#E55604;\n",
    "            margin:10px;\n",
    "            font-size:130%;\n",
    "            display:fill;\n",
    "            border-radius:5px;\n",
    "            border-style: solid;\n",
    "            border-color: #FF9B50;\n",
    "            background-color:#000000;\n",
    "            overflow:hidden;\n",
    "            font-weight:400\"><b>Checking if there are any null values present in the dataset or not ?</b>\n",
    "</div>"
   ]
  },
  {
   "cell_type": "code",
   "execution_count": 24,
   "id": "c6a62046",
   "metadata": {
    "scrolled": true
   },
   "outputs": [
    {
     "data": {
      "text/plain": [
       "Customer ID                 0\n",
       "Review Rating               0\n",
       "Preferred Payment Method    0\n",
       "Previous Purchases          0\n",
       "Promo Code Used             0\n",
       "Discount Applied            0\n",
       "Shipping Type               0\n",
       "Payment Method              0\n",
       "Subscription Status         0\n",
       "Season                      0\n",
       "Age                         0\n",
       "Color                       0\n",
       "Size                        0\n",
       "Location                    0\n",
       "Purchase Amount (USD)       0\n",
       "Category                    0\n",
       "Item Purchased              0\n",
       "Gender                      0\n",
       "Frequency of Purchases      0\n",
       "dtype: int64"
      ]
     },
     "execution_count": 24,
     "metadata": {},
     "output_type": "execute_result"
    }
   ],
   "source": [
    "data.isnull().sum().sort_values(ascending=False)"
   ]
  },
  {
   "cell_type": "code",
   "execution_count": 28,
   "id": "30945390",
   "metadata": {},
   "outputs": [
    {
     "data": {
      "text/plain": [
       "<Axes: >"
      ]
     },
     "execution_count": 28,
     "metadata": {},
     "output_type": "execute_result"
    },
    {
     "data": {
      "image/png": "[encoded data removed]",
      "text/plain": [
       "<Figure size 640x480 with 2 Axes>"
      ]
     },
     "metadata": {},
     "output_type": "display_data"
    }
   ],
   "source": [
    "sn.heatmap(data.isnull())"
   ]
  },
  {
   "cell_type": "markdown",
   "id": "0b6e1c92",
   "metadata": {
    "papermill": {
     "duration": 0.026725,
     "end_time": "2023-10-18T04:47:41.896326",
     "exception": false,
     "start_time": "2023-10-18T04:47:41.869601",
     "status": "completed"
    },
    "tags": []
   },
   "source": [
    "<div style=\"padding:10px;\n",
    "            color:#E55604;\n",
    "            margin:10px;\n",
    "            font-size:130%;\n",
    "            display:fill;\n",
    "            border-radius:5px;\n",
    "            border-style: solid;\n",
    "            border-color: #FF9B50;\n",
    "            background-color:#000000;\n",
    "            overflow:hidden;\n",
    "            font-weight:400\"><b>Checking if there are any duplicate values present in the dataset or not ?</b>\n",
    "</div>"
   ]
  },
  {
   "cell_type": "code",
   "execution_count": 27,
   "id": "ac25ddcc",
   "metadata": {
    "execution": {
     "iopub.execute_input": "2023-10-18T04:47:41.949341Z",
     "iopub.status.busy": "2023-10-18T04:47:41.948927Z",
     "iopub.status.idle": "2023-10-18T04:47:41.963433Z",
     "shell.execute_reply": "2023-10-18T04:47:41.962682Z"
    },
    "papermill": {
     "duration": 0.043788,
     "end_time": "2023-10-18T04:47:41.965493",
     "exception": false,
     "start_time": "2023-10-18T04:47:41.921705",
     "status": "completed"
    },
    "tags": []
   },
   "outputs": [
    {
     "data": {
      "text/plain": [
       "0"
      ]
     },
     "execution_count": 27,
     "metadata": {},
     "output_type": "execute_result"
    }
   ],
   "source": [
    "data.duplicated().sum()"
   ]
  },
  {
   "cell_type": "code",
   "execution_count": null,
   "id": "e1f5bcb1",
   "metadata": {},
   "outputs": [],
   "source": []
  },
  {
   "cell_type": "markdown",
   "id": "7d97a900",
   "metadata": {
    "papermill": {
     "duration": 0.026725,
     "end_time": "2023-10-18T04:47:41.896326",
     "exception": false,
     "start_time": "2023-10-18T04:47:41.869601",
     "status": "completed"
    },
    "tags": []
   },
   "source": [
    "<div style=\"padding:10px;\n",
    "            color:#E55604;\n",
    "            margin:10px;\n",
    "            font-size:130%;\n",
    "            display:fill;\n",
    "            border-radius:5px;\n",
    "            border-style: solid;\n",
    "            border-color: #FF9B50;\n",
    "            background-color:#000000;\n",
    "            overflow:hidden;\n",
    "            font-weight:400\"><b>Plot bar chart for male and female</b>\n",
    "</div>"
   ]
  },
  {
   "cell_type": "code",
   "execution_count": 44,
   "id": "dba547b8",
   "metadata": {},
   "outputs": [
    {
     "data": {
      "text/plain": [
       "Male      2652\n",
       "Female    1248\n",
       "Name: Gender, dtype: int64"
      ]
     },
     "execution_count": 44,
     "metadata": {},
     "output_type": "execute_result"
    }
   ],
   "source": [
    "Gender=data[\"Gender\"].value_counts()\n",
    "Gender"
   ]
  },
  {
   "cell_type": "code",
   "execution_count": 45,
   "id": "bf77445d",
   "metadata": {
    "scrolled": true
   },
   "outputs": [
    {
     "data": {
      "image/png": "[encoded data removed]",
      "text/plain": [
       "<Figure size 640x480 with 1 Axes>"
      ]
     },
     "metadata": {},
     "output_type": "display_data"
    }
   ],
   "source": [
    "plt.bar(x=Gender.index,height=Gender.values);\n"
   ]
  },
  {
   "cell_type": "markdown",
   "id": "0655ab79",
   "metadata": {
    "papermill": {
     "duration": 0.026725,
     "end_time": "2023-10-18T04:47:41.896326",
     "exception": false,
     "start_time": "2023-10-18T04:47:41.869601",
     "status": "completed"
    },
    "tags": []
   },
   "source": [
    "<div style=\"padding:10px;\n",
    "            color:#E55604;\n",
    "            margin:10px;\n",
    "            font-size:130%;\n",
    "            display:fill;\n",
    "            border-radius:5px;\n",
    "            border-style: solid;\n",
    "            border-color: #FF9B50;\n",
    "            background-color:#000000;\n",
    "            overflow:hidden;\n",
    "            font-weight:400\"><b>Plot Pie chart for male and female</b>\n",
    "</div>"
   ]
  },
  {
   "cell_type": "code",
   "execution_count": 55,
   "id": "1878e156",
   "metadata": {},
   "outputs": [
    {
     "data": {
      "image/png": "[encoded data removed]",
      "text/plain": [
       "<Figure size 640x480 with 1 Axes>"
      ]
     },
     "metadata": {},
     "output_type": "display_data"
    }
   ],
   "source": [
    "x=data[\"Gender\"].value_counts()\n",
    "plt.pie(x,labels=[\"Male\",\"Female\"]);"
   ]
  },
  {
   "cell_type": "markdown",
   "id": "bd1b53b0",
   "metadata": {
    "papermill": {
     "duration": 0.026725,
     "end_time": "2023-10-18T04:47:41.896326",
     "exception": false,
     "start_time": "2023-10-18T04:47:41.869601",
     "status": "completed"
    },
    "tags": []
   },
   "source": [
    "<div style=\"padding:10px;\n",
    "            color:#E55604;\n",
    "            margin:10px;\n",
    "            font-size:130%;\n",
    "            display:fill;\n",
    "            border-radius:5px;\n",
    "            border-style: solid;\n",
    "            border-color: #FF9B50;\n",
    "            background-color:#000000;\n",
    "            overflow:hidden;\n",
    "            font-weight:400\"><b>Histogram chart for practice\n",
    "    </b>\n",
    "</div>"
   ]
  },
  {
   "cell_type": "code",
   "execution_count": 58,
   "id": "58912189",
   "metadata": {
    "scrolled": true
   },
   "outputs": [
    {
     "data": {
      "image/png": "[encoded data removed]",
      "text/plain": [
       "<Figure size 640x480 with 1 Axes>"
      ]
     },
     "metadata": {},
     "output_type": "display_data"
    }
   ],
   "source": [
    "gender=data[\"Gender\"]\n",
    "plt.hist(gender);"
   ]
  },
  {
   "cell_type": "markdown",
   "id": "7444660c",
   "metadata": {
    "papermill": {
     "duration": 0.026725,
     "end_time": "2023-10-18T04:47:41.896326",
     "exception": false,
     "start_time": "2023-10-18T04:47:41.869601",
     "status": "completed"
    },
    "tags": []
   },
   "source": [
    "<div style=\"padding:10px;\n",
    "            color:#E55604;\n",
    "            margin:10px;\n",
    "            font-size:130%;\n",
    "            display:fill;\n",
    "            border-radius:5px;\n",
    "            border-style: solid;\n",
    "            border-color: #FF9B50;\n",
    "            background-color:#000000;\n",
    "            overflow:hidden;\n",
    "            font-weight:400\"><b>Find category wise count\n",
    "    </b>\n",
    "</div>"
   ]
  },
  {
   "cell_type": "code",
   "execution_count": 72,
   "id": "04a91927",
   "metadata": {},
   "outputs": [
    {
     "data": {
      "text/plain": [
       "Clothing       1737\n",
       "Accessories    1240\n",
       "Footwear        599\n",
       "Outerwear       324\n",
       "Name: Category, dtype: int64"
      ]
     },
     "execution_count": 72,
     "metadata": {},
     "output_type": "execute_result"
    }
   ],
   "source": [
    "y = data[\"Category\"].value_counts()\n",
    "y"
   ]
  },
  {
   "cell_type": "code",
   "execution_count": null,
   "id": "dbdf1597",
   "metadata": {},
   "outputs": [],
   "source": []
  },
  {
   "cell_type": "markdown",
   "id": "696b3459",
   "metadata": {
    "papermill": {
     "duration": 0.026725,
     "end_time": "2023-10-18T04:47:41.896326",
     "exception": false,
     "start_time": "2023-10-18T04:47:41.869601",
     "status": "completed"
    },
    "tags": []
   },
   "source": [
    "<div style=\"padding:10px;\n",
    "            color:#E55604;\n",
    "            margin:10px;\n",
    "            font-size:130%;\n",
    "            display:fill;\n",
    "            border-radius:5px;\n",
    "            border-style: solid;\n",
    "            border-color: #FF9B50;\n",
    "            background-color:#000000;\n",
    "            overflow:hidden;\n",
    "            font-weight:400\"><b>Plot category wise count chart\n",
    "    </b>\n",
    "</div>"
   ]
  },
  {
   "cell_type": "code",
   "execution_count": 73,
   "id": "5b1dcdb4",
   "metadata": {},
   "outputs": [
    {
     "data": {
      "image/png": "[encoded data removed]",
      "text/plain": [
       "<Figure size 640x480 with 1 Axes>"
      ]
     },
     "metadata": {},
     "output_type": "display_data"
    }
   ],
   "source": [
    "plt.bar(y.index,height=y.values);"
   ]
  },
  {
   "cell_type": "markdown",
   "id": "5955e0a6",
   "metadata": {
    "papermill": {
     "duration": 0.026725,
     "end_time": "2023-10-18T04:47:41.896326",
     "exception": false,
     "start_time": "2023-10-18T04:47:41.869601",
     "status": "completed"
    },
    "tags": []
   },
   "source": [
    "<div style=\"padding:10px;\n",
    "            color:#E55604;\n",
    "            margin:10px;\n",
    "            font-size:130%;\n",
    "            display:fill;\n",
    "            border-radius:5px;\n",
    "            border-style: solid;\n",
    "            border-color: #FF9B50;\n",
    "            background-color:#000000;\n",
    "            overflow:hidden;\n",
    "            font-weight:400\"><b> create pie Plot category wise count chart with different properties\n",
    "    </b>\n",
    "</div>"
   ]
  },
  {
   "cell_type": "code",
   "execution_count": null,
   "id": "bf9351f4",
   "metadata": {},
   "outputs": [],
   "source": []
  },
  {
   "cell_type": "code",
   "execution_count": 84,
   "id": "e5dc0d99",
   "metadata": {},
   "outputs": [
    {
     "data": {
      "image/png": "[encoded data removed]",
      "text/plain": [
       "<Figure size 640x480 with 1 Axes>"
      ]
     },
     "metadata": {},
     "output_type": "display_data"
    }
   ],
   "source": [
    "x=data[\"Category\"].value_counts()\n",
    "plt.pie(x,labels=[\"Clothing\",\"Accessories\",\"Footwear\",\"Outerwear\"],autopct=\"%.0f%%\",shadow=True,startangle=90);"
   ]
  }
 ],
 "metadata": {
  "kernelspec": {
   "display_name": "Python 3 (ipykernel)",
   "language": "python",
   "name": "python3"
  },
  "language_info": {
   "codemirror_mode": {
    "name": "ipython",
    "version": 3
   },
   "file_extension": ".py",
   "mimetype": "text/x-python",
   "name": "python",
   "nbconvert_exporter": "python",
   "pygments_lexer": "ipython3",
   "version": "3.11.5"
  },
  "papermill": {
   "default_parameters": {},
   "duration": 40.222738,
   "end_time": "2023-10-18T04:48:14.071284",
   "environment_variables": {},
   "exception": null,
   "input_path": "__notebook__.ipynb",
   "output_path": "__notebook__.ipynb",
   "parameters": {},
   "start_time": "2023-10-18T04:47:33.848546",
   "version": "2.4.0"
  }
 },
 "nbformat": 4,
 "nbformat_minor": 5
}
