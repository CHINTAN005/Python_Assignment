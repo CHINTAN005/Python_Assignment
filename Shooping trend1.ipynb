{
 "cells": [
  {
   "cell_type": "markdown",
   "id": "c252e567",
   "metadata": {},
   "source": [
    "# Count the value of location\n"
   ]
  },
  {
   "cell_type": "code",
   "execution_count": 2,
   "id": "1ee68a84",
   "metadata": {},
   "outputs": [],
   "source": [
    "import numpy as np\n",
    "import pandas as pd\n",
    "import matplotlib.pyplot as plt\n",
    "import seaborn as sn "
   ]
  },
  {
   "cell_type": "code",
   "execution_count": 3,
   "id": "511c6aae",
   "metadata": {},
   "outputs": [
    {
     "data": {
      "text/html": [
       "<div>\n",
       "<style scoped>\n",
       "    .dataframe tbody tr th:only-of-type {\n",
       "        vertical-align: middle;\n",
       "    }\n",
       "\n",
       "    .dataframe tbody tr th {\n",
       "        vertical-align: top;\n",
       "    }\n",
       "\n",
       "    .dataframe thead th {\n",
       "        text-align: right;\n",
       "    }\n",
       "</style>\n",
       "<table border=\"1\" class=\"dataframe\">\n",
       "  <thead>\n",
       "    <tr style=\"text-align: right;\">\n",
       "      <th></th>\n",
       "      <th>Customer ID</th>\n",
       "      <th>Age</th>\n",
       "      <th>Gender</th>\n",
       "      <th>Item Purchased</th>\n",
       "      <th>Category</th>\n",
       "      <th>Purchase Amount (USD)</th>\n",
       "      <th>Location</th>\n",
       "      <th>Size</th>\n",
       "      <th>Color</th>\n",
       "      <th>Season</th>\n",
       "      <th>Review Rating</th>\n",
       "      <th>Subscription Status</th>\n",
       "      <th>Payment Method</th>\n",
       "      <th>Shipping Type</th>\n",
       "      <th>Discount Applied</th>\n",
       "      <th>Promo Code Used</th>\n",
       "      <th>Previous Purchases</th>\n",
       "      <th>Preferred Payment Method</th>\n",
       "      <th>Frequency of Purchases</th>\n",
       "    </tr>\n",
       "  </thead>\n",
       "  <tbody>\n",
       "    <tr>\n",
       "      <th>0</th>\n",
       "      <td>1</td>\n",
       "      <td>55</td>\n",
       "      <td>Male</td>\n",
       "      <td>Blouse</td>\n",
       "      <td>Clothing</td>\n",
       "      <td>53</td>\n",
       "      <td>Kentucky</td>\n",
       "      <td>L</td>\n",
       "      <td>Gray</td>\n",
       "      <td>Winter</td>\n",
       "      <td>3.1</td>\n",
       "      <td>Yes</td>\n",
       "      <td>Credit Card</td>\n",
       "      <td>Express</td>\n",
       "      <td>Yes</td>\n",
       "      <td>Yes</td>\n",
       "      <td>14</td>\n",
       "      <td>Venmo</td>\n",
       "      <td>Fortnightly</td>\n",
       "    </tr>\n",
       "    <tr>\n",
       "      <th>1</th>\n",
       "      <td>2</td>\n",
       "      <td>19</td>\n",
       "      <td>Male</td>\n",
       "      <td>Sweater</td>\n",
       "      <td>Clothing</td>\n",
       "      <td>64</td>\n",
       "      <td>Maine</td>\n",
       "      <td>L</td>\n",
       "      <td>Maroon</td>\n",
       "      <td>Winter</td>\n",
       "      <td>3.1</td>\n",
       "      <td>Yes</td>\n",
       "      <td>Bank Transfer</td>\n",
       "      <td>Express</td>\n",
       "      <td>Yes</td>\n",
       "      <td>Yes</td>\n",
       "      <td>2</td>\n",
       "      <td>Cash</td>\n",
       "      <td>Fortnightly</td>\n",
       "    </tr>\n",
       "    <tr>\n",
       "      <th>2</th>\n",
       "      <td>3</td>\n",
       "      <td>50</td>\n",
       "      <td>Male</td>\n",
       "      <td>Jeans</td>\n",
       "      <td>Clothing</td>\n",
       "      <td>73</td>\n",
       "      <td>Massachusetts</td>\n",
       "      <td>S</td>\n",
       "      <td>Maroon</td>\n",
       "      <td>Spring</td>\n",
       "      <td>3.1</td>\n",
       "      <td>Yes</td>\n",
       "      <td>Cash</td>\n",
       "      <td>Free Shipping</td>\n",
       "      <td>Yes</td>\n",
       "      <td>Yes</td>\n",
       "      <td>23</td>\n",
       "      <td>Credit Card</td>\n",
       "      <td>Weekly</td>\n",
       "    </tr>\n",
       "    <tr>\n",
       "      <th>3</th>\n",
       "      <td>4</td>\n",
       "      <td>21</td>\n",
       "      <td>Male</td>\n",
       "      <td>Sandals</td>\n",
       "      <td>Footwear</td>\n",
       "      <td>90</td>\n",
       "      <td>Rhode Island</td>\n",
       "      <td>M</td>\n",
       "      <td>Maroon</td>\n",
       "      <td>Spring</td>\n",
       "      <td>3.5</td>\n",
       "      <td>Yes</td>\n",
       "      <td>PayPal</td>\n",
       "      <td>Next Day Air</td>\n",
       "      <td>Yes</td>\n",
       "      <td>Yes</td>\n",
       "      <td>49</td>\n",
       "      <td>PayPal</td>\n",
       "      <td>Weekly</td>\n",
       "    </tr>\n",
       "    <tr>\n",
       "      <th>4</th>\n",
       "      <td>5</td>\n",
       "      <td>45</td>\n",
       "      <td>Male</td>\n",
       "      <td>Blouse</td>\n",
       "      <td>Clothing</td>\n",
       "      <td>49</td>\n",
       "      <td>Oregon</td>\n",
       "      <td>M</td>\n",
       "      <td>Turquoise</td>\n",
       "      <td>Spring</td>\n",
       "      <td>2.7</td>\n",
       "      <td>Yes</td>\n",
       "      <td>Cash</td>\n",
       "      <td>Free Shipping</td>\n",
       "      <td>Yes</td>\n",
       "      <td>Yes</td>\n",
       "      <td>31</td>\n",
       "      <td>PayPal</td>\n",
       "      <td>Annually</td>\n",
       "    </tr>\n",
       "    <tr>\n",
       "      <th>...</th>\n",
       "      <td>...</td>\n",
       "      <td>...</td>\n",
       "      <td>...</td>\n",
       "      <td>...</td>\n",
       "      <td>...</td>\n",
       "      <td>...</td>\n",
       "      <td>...</td>\n",
       "      <td>...</td>\n",
       "      <td>...</td>\n",
       "      <td>...</td>\n",
       "      <td>...</td>\n",
       "      <td>...</td>\n",
       "      <td>...</td>\n",
       "      <td>...</td>\n",
       "      <td>...</td>\n",
       "      <td>...</td>\n",
       "      <td>...</td>\n",
       "      <td>...</td>\n",
       "      <td>...</td>\n",
       "    </tr>\n",
       "    <tr>\n",
       "      <th>3895</th>\n",
       "      <td>3896</td>\n",
       "      <td>40</td>\n",
       "      <td>Female</td>\n",
       "      <td>Hoodie</td>\n",
       "      <td>Clothing</td>\n",
       "      <td>28</td>\n",
       "      <td>Virginia</td>\n",
       "      <td>L</td>\n",
       "      <td>Turquoise</td>\n",
       "      <td>Summer</td>\n",
       "      <td>4.2</td>\n",
       "      <td>No</td>\n",
       "      <td>Cash</td>\n",
       "      <td>2-Day Shipping</td>\n",
       "      <td>No</td>\n",
       "      <td>No</td>\n",
       "      <td>32</td>\n",
       "      <td>Venmo</td>\n",
       "      <td>Weekly</td>\n",
       "    </tr>\n",
       "    <tr>\n",
       "      <th>3896</th>\n",
       "      <td>3897</td>\n",
       "      <td>52</td>\n",
       "      <td>Female</td>\n",
       "      <td>Backpack</td>\n",
       "      <td>Accessories</td>\n",
       "      <td>49</td>\n",
       "      <td>Iowa</td>\n",
       "      <td>L</td>\n",
       "      <td>White</td>\n",
       "      <td>Spring</td>\n",
       "      <td>4.5</td>\n",
       "      <td>No</td>\n",
       "      <td>PayPal</td>\n",
       "      <td>Store Pickup</td>\n",
       "      <td>No</td>\n",
       "      <td>No</td>\n",
       "      <td>41</td>\n",
       "      <td>Bank Transfer</td>\n",
       "      <td>Bi-Weekly</td>\n",
       "    </tr>\n",
       "    <tr>\n",
       "      <th>3897</th>\n",
       "      <td>3898</td>\n",
       "      <td>46</td>\n",
       "      <td>Female</td>\n",
       "      <td>Belt</td>\n",
       "      <td>Accessories</td>\n",
       "      <td>33</td>\n",
       "      <td>New Jersey</td>\n",
       "      <td>L</td>\n",
       "      <td>Green</td>\n",
       "      <td>Spring</td>\n",
       "      <td>2.9</td>\n",
       "      <td>No</td>\n",
       "      <td>Credit Card</td>\n",
       "      <td>Standard</td>\n",
       "      <td>No</td>\n",
       "      <td>No</td>\n",
       "      <td>24</td>\n",
       "      <td>Venmo</td>\n",
       "      <td>Quarterly</td>\n",
       "    </tr>\n",
       "    <tr>\n",
       "      <th>3898</th>\n",
       "      <td>3899</td>\n",
       "      <td>44</td>\n",
       "      <td>Female</td>\n",
       "      <td>Shoes</td>\n",
       "      <td>Footwear</td>\n",
       "      <td>77</td>\n",
       "      <td>Minnesota</td>\n",
       "      <td>S</td>\n",
       "      <td>Brown</td>\n",
       "      <td>Summer</td>\n",
       "      <td>3.8</td>\n",
       "      <td>No</td>\n",
       "      <td>PayPal</td>\n",
       "      <td>Express</td>\n",
       "      <td>No</td>\n",
       "      <td>No</td>\n",
       "      <td>24</td>\n",
       "      <td>Venmo</td>\n",
       "      <td>Weekly</td>\n",
       "    </tr>\n",
       "    <tr>\n",
       "      <th>3899</th>\n",
       "      <td>3900</td>\n",
       "      <td>52</td>\n",
       "      <td>Female</td>\n",
       "      <td>Handbag</td>\n",
       "      <td>Accessories</td>\n",
       "      <td>81</td>\n",
       "      <td>California</td>\n",
       "      <td>M</td>\n",
       "      <td>Beige</td>\n",
       "      <td>Spring</td>\n",
       "      <td>3.1</td>\n",
       "      <td>No</td>\n",
       "      <td>Bank Transfer</td>\n",
       "      <td>Store Pickup</td>\n",
       "      <td>No</td>\n",
       "      <td>No</td>\n",
       "      <td>33</td>\n",
       "      <td>Venmo</td>\n",
       "      <td>Quarterly</td>\n",
       "    </tr>\n",
       "  </tbody>\n",
       "</table>\n",
       "<p>3900 rows × 19 columns</p>\n",
       "</div>"
      ],
      "text/plain": [
       "      Customer ID  Age  Gender Item Purchased     Category  \\\n",
       "0               1   55    Male         Blouse     Clothing   \n",
       "1               2   19    Male        Sweater     Clothing   \n",
       "2               3   50    Male          Jeans     Clothing   \n",
       "3               4   21    Male        Sandals     Footwear   \n",
       "4               5   45    Male         Blouse     Clothing   \n",
       "...           ...  ...     ...            ...          ...   \n",
       "3895         3896   40  Female         Hoodie     Clothing   \n",
       "3896         3897   52  Female       Backpack  Accessories   \n",
       "3897         3898   46  Female           Belt  Accessories   \n",
       "3898         3899   44  Female          Shoes     Footwear   \n",
       "3899         3900   52  Female        Handbag  Accessories   \n",
       "\n",
       "      Purchase Amount (USD)       Location Size      Color  Season  \\\n",
       "0                        53       Kentucky    L       Gray  Winter   \n",
       "1                        64          Maine    L     Maroon  Winter   \n",
       "2                        73  Massachusetts    S     Maroon  Spring   \n",
       "3                        90   Rhode Island    M     Maroon  Spring   \n",
       "4                        49         Oregon    M  Turquoise  Spring   \n",
       "...                     ...            ...  ...        ...     ...   \n",
       "3895                     28       Virginia    L  Turquoise  Summer   \n",
       "3896                     49           Iowa    L      White  Spring   \n",
       "3897                     33     New Jersey    L      Green  Spring   \n",
       "3898                     77      Minnesota    S      Brown  Summer   \n",
       "3899                     81     California    M      Beige  Spring   \n",
       "\n",
       "      Review Rating Subscription Status Payment Method   Shipping Type  \\\n",
       "0               3.1                 Yes    Credit Card         Express   \n",
       "1               3.1                 Yes  Bank Transfer         Express   \n",
       "2               3.1                 Yes           Cash   Free Shipping   \n",
       "3               3.5                 Yes         PayPal    Next Day Air   \n",
       "4               2.7                 Yes           Cash   Free Shipping   \n",
       "...             ...                 ...            ...             ...   \n",
       "3895            4.2                  No           Cash  2-Day Shipping   \n",
       "3896            4.5                  No         PayPal    Store Pickup   \n",
       "3897            2.9                  No    Credit Card        Standard   \n",
       "3898            3.8                  No         PayPal         Express   \n",
       "3899            3.1                  No  Bank Transfer    Store Pickup   \n",
       "\n",
       "     Discount Applied Promo Code Used  Previous Purchases  \\\n",
       "0                 Yes             Yes                  14   \n",
       "1                 Yes             Yes                   2   \n",
       "2                 Yes             Yes                  23   \n",
       "3                 Yes             Yes                  49   \n",
       "4                 Yes             Yes                  31   \n",
       "...               ...             ...                 ...   \n",
       "3895               No              No                  32   \n",
       "3896               No              No                  41   \n",
       "3897               No              No                  24   \n",
       "3898               No              No                  24   \n",
       "3899               No              No                  33   \n",
       "\n",
       "     Preferred Payment Method Frequency of Purchases  \n",
       "0                       Venmo            Fortnightly  \n",
       "1                        Cash            Fortnightly  \n",
       "2                 Credit Card                 Weekly  \n",
       "3                      PayPal                 Weekly  \n",
       "4                      PayPal               Annually  \n",
       "...                       ...                    ...  \n",
       "3895                    Venmo                 Weekly  \n",
       "3896            Bank Transfer              Bi-Weekly  \n",
       "3897                    Venmo              Quarterly  \n",
       "3898                    Venmo                 Weekly  \n",
       "3899                    Venmo              Quarterly  \n",
       "\n",
       "[3900 rows x 19 columns]"
      ]
     },
     "execution_count": 3,
     "metadata": {},
     "output_type": "execute_result"
    }
   ],
   "source": [
    "data = pd.read_csv(\"shopping_trends - shopping_trends.csv.csv\")\n",
    "data"
   ]
  },
  {
   "cell_type": "code",
   "execution_count": null,
   "id": "6aba2783",
   "metadata": {},
   "outputs": [],
   "source": [
    "pd.set_option(\"\""
   ]
  },
  {
   "cell_type": "markdown",
   "id": "0109ef39",
   "metadata": {},
   "source": [
    "# Find Subscription status count"
   ]
  },
  {
   "cell_type": "code",
   "execution_count": 4,
   "id": "9bf8c01c",
   "metadata": {},
   "outputs": [
    {
     "data": {
      "text/plain": [
       "No     2847\n",
       "Yes    1053\n",
       "Name: Subscription Status, dtype: int64"
      ]
     },
     "execution_count": 4,
     "metadata": {},
     "output_type": "execute_result"
    }
   ],
   "source": [
    "data[\"Subscription Status\"].value_counts()"
   ]
  },
  {
   "cell_type": "markdown",
   "id": "dddefc4d",
   "metadata": {},
   "source": [
    "# Plot horizontal bar chart with title lable and legends"
   ]
  },
  {
   "cell_type": "code",
   "execution_count": 5,
   "id": "50ee9c1b",
   "metadata": {
    "scrolled": true
   },
   "outputs": [
    {
     "data": {
      "text/plain": [
       "Credit Card      696\n",
       "Venmo            653\n",
       "Cash             648\n",
       "PayPal           638\n",
       "Debit Card       633\n",
       "Bank Transfer    632\n",
       "Name: Payment Method, dtype: int64"
      ]
     },
     "execution_count": 5,
     "metadata": {},
     "output_type": "execute_result"
    }
   ],
   "source": [
    "Payment_Method=data[\"Payment Method\"].value_counts()\n",
    "Payment_Method"
   ]
  },
  {
   "cell_type": "code",
   "execution_count": 104,
   "id": "b4c1a3d0",
   "metadata": {},
   "outputs": [
    {
     "data": {
      "text/plain": [
       "Text(0, 0.5, 'PAYMENT METHOD')"
      ]
     },
     "execution_count": 104,
     "metadata": {},
     "output_type": "execute_result"
    },
    {
     "data": {
      "image/png": "[encoded data removed]",
      "text/plain": [
       "<Figure size 640x480 with 1 Axes>"
      ]
     },
     "metadata": {},
     "output_type": "display_data"
    }
   ],
   "source": [
    "plt.barh(y=Payment_Method.index,width=Payment_Method.values)\n",
    "plt.title(\"Payment Method\")\n",
    "plt.legend(\"Payment Type\")\n",
    "plt.xlabel(\"COUNT OF PAYMENT \")\n",
    "plt.ylabel(\"PAYMENT METHOD\")\n",
    "\n"
   ]
  },
  {
   "cell_type": "markdown",
   "id": "7894c0a1",
   "metadata": {
    "execution": {
     "iopub.execute_input": "2023-10-18T04:47:50.352526Z",
     "iopub.status.busy": "2023-10-18T04:47:50.351199Z",
     "iopub.status.idle": "2023-10-18T04:47:50.359867Z",
     "shell.execute_reply": "2023-10-18T04:47:50.359027Z"
    },
    "papermill": {
     "duration": 0.058628,
     "end_time": "2023-10-18T04:47:50.361774",
     "exception": false,
     "start_time": "2023-10-18T04:47:50.303146",
     "status": "completed"
    },
    "tags": []
   },
   "source": [
    "# Find top3 payment method"
   ]
  },
  {
   "cell_type": "code",
   "execution_count": 7,
   "id": "90d6f472",
   "metadata": {},
   "outputs": [
    {
     "data": {
      "text/plain": [
       "Credit Card      696\n",
       "Venmo            653\n",
       "Cash             648\n",
       "PayPal           638\n",
       "Debit Card       633\n",
       "Bank Transfer    632\n",
       "Name: Payment Method, dtype: int64"
      ]
     },
     "execution_count": 7,
     "metadata": {},
     "output_type": "execute_result"
    }
   ],
   "source": [
    "data[\"Payment Method\"].value_counts()"
   ]
  },
  {
   "cell_type": "markdown",
   "id": "abcdb87b",
   "metadata": {
    "papermill": {
     "duration": 0.054514,
     "end_time": "2023-10-18T04:47:52.756918",
     "exception": false,
     "start_time": "2023-10-18T04:47:52.702404",
     "status": "completed"
    },
    "tags": []
   },
   "source": [
    "<div style=\"padding:10px;\n",
    "            color:#E55604;\n",
    "            margin:10px;\n",
    "            font-size:130%;\n",
    "            display:fill;\n",
    "            border-radius:5px;\n",
    "            border-style: solid;\n",
    "            border-color: #FF9B50;\n",
    "            background-color:#000000;\n",
    "            overflow:hidden;\n",
    "            font-weight:400\"><b>What is the average age of customers in the dataset ? (with mean)</b>\n",
    "</div>"
   ]
  },
  {
   "cell_type": "code",
   "execution_count": 8,
   "id": "aa8006fa",
   "metadata": {},
   "outputs": [
    {
     "data": {
      "text/plain": [
       "44.06846153846154"
      ]
     },
     "execution_count": 8,
     "metadata": {},
     "output_type": "execute_result"
    }
   ],
   "source": [
    "data[\"Age\"].mean()"
   ]
  },
  {
   "cell_type": "markdown",
   "id": "71b56e1b",
   "metadata": {
    "papermill": {
     "duration": 0.054893,
     "end_time": "2023-10-18T04:47:52.988181",
     "exception": false,
     "start_time": "2023-10-18T04:47:52.933288",
     "status": "completed"
    },
    "tags": []
   },
   "source": [
    "<div style=\"padding:10px;\n",
    "            color:#E55604;\n",
    "            margin:10px;\n",
    "            font-size:130%;\n",
    "            display:fill;\n",
    "            border-radius:5px;\n",
    "            border-style: solid;\n",
    "            border-color: #FF9B50;\n",
    "            background-color:#000000;\n",
    "            overflow:hidden;\n",
    "            font-weight:400\"><b>What is the most common item purchased ?</b>\n",
    "</div>"
   ]
  },
  {
   "cell_type": "code",
   "execution_count": 9,
   "id": "d6b9452d",
   "metadata": {},
   "outputs": [
    {
     "data": {
      "text/plain": [
       "0     Blouse\n",
       "1    Jewelry\n",
       "2      Pants\n",
       "Name: Item Purchased, dtype: object"
      ]
     },
     "execution_count": 9,
     "metadata": {},
     "output_type": "execute_result"
    }
   ],
   "source": [
    "data[\"Item Purchased\"].mode()"
   ]
  },
  {
   "cell_type": "markdown",
   "id": "bb543113",
   "metadata": {
    "papermill": {
     "duration": 0.055014,
     "end_time": "2023-10-18T04:47:53.220509",
     "exception": false,
     "start_time": "2023-10-18T04:47:53.165495",
     "status": "completed"
    },
    "tags": []
   },
   "source": [
    "<div style=\"padding:10px;\n",
    "            color:#E55604;\n",
    "            margin:10px;\n",
    "            font-size:130%;\n",
    "            display:fill;\n",
    "            border-radius:5px;\n",
    "            border-style: solid;\n",
    "            border-color: #FF9B50;\n",
    "            background-color:#000000;\n",
    "            overflow:hidden;\n",
    "            font-weight:400\"><b>What is the total purchase amount for each category ?</b>\n",
    "</div>"
   ]
  },
  {
   "cell_type": "code",
   "execution_count": 10,
   "id": "5c32a9ef",
   "metadata": {
    "execution": {
     "iopub.execute_input": "2023-10-18T04:47:53.333415Z",
     "iopub.status.busy": "2023-10-18T04:47:53.332554Z",
     "iopub.status.idle": "2023-10-18T04:47:53.340397Z",
     "shell.execute_reply": "2023-10-18T04:47:53.339166Z"
    },
    "papermill": {
     "duration": 0.066927,
     "end_time": "2023-10-18T04:47:53.342291",
     "exception": false,
     "start_time": "2023-10-18T04:47:53.275364",
     "status": "completed"
    },
    "tags": []
   },
   "outputs": [
    {
     "name": "stdout",
     "output_type": "stream",
     "text": [
      "Total Purchase Amount by Category\n",
      "Category\n",
      "Accessories     74200\n",
      "Clothing       104264\n",
      "Footwear        36093\n",
      "Outerwear       18524\n",
      "Name: Purchase Amount (USD), dtype: int64\n"
     ]
    }
   ],
   "source": [
    "total_purchase_by_category = data.groupby('Category')['Purchase Amount (USD)'].sum()\n",
    "print(\"Total Purchase Amount by Category\")\n",
    "print(total_purchase_by_category)"
   ]
  },
  {
   "cell_type": "markdown",
   "id": "d2184272",
   "metadata": {
    "papermill": {
     "duration": 0.055812,
     "end_time": "2023-10-18T04:47:53.453287",
     "exception": false,
     "start_time": "2023-10-18T04:47:53.397475",
     "status": "completed"
    },
    "tags": []
   },
   "source": [
    "<div style=\"padding:10px;\n",
    "            color:#E55604;\n",
    "            margin:10px;\n",
    "            font-size:130%;\n",
    "            display:fill;\n",
    "            border-radius:5px;\n",
    "            border-style: solid;\n",
    "            border-color: #FF9B50;\n",
    "            background-color:#000000;\n",
    "            overflow:hidden;\n",
    "            font-weight:400\"><b>What is the average review rating for male customers and female customers separately ?</b>\n",
    "</div>"
   ]
  },
  {
   "cell_type": "code",
   "execution_count": 13,
   "id": "467e4fce",
   "metadata": {},
   "outputs": [
    {
     "data": {
      "text/plain": [
       "Gender\n",
       "Female    3.741426\n",
       "Male      3.753959\n",
       "Name: Review Rating, dtype: float64"
      ]
     },
     "execution_count": 13,
     "metadata": {},
     "output_type": "execute_result"
    }
   ],
   "source": [
    "average_review_rating = data.groupby(\"Gender\")[\"Review Rating\"].mean()\n",
    "average_review_rating"
   ]
  },
  {
   "cell_type": "code",
   "execution_count": 14,
   "id": "f5b26949",
   "metadata": {
    "execution": {
     "iopub.execute_input": "2023-10-18T04:47:53.817507Z",
     "iopub.status.busy": "2023-10-18T04:47:53.816695Z",
     "iopub.status.idle": "2023-10-18T04:47:53.822878Z",
     "shell.execute_reply": "2023-10-18T04:47:53.821756Z"
    },
    "papermill": {
     "duration": 0.064719,
     "end_time": "2023-10-18T04:47:53.825129",
     "exception": false,
     "start_time": "2023-10-18T04:47:53.760410",
     "status": "completed"
    },
    "tags": []
   },
   "outputs": [
    {
     "name": "stdout",
     "output_type": "stream",
     "text": [
      "Most Common Payment Method: 0    Credit Card\n",
      "Name: Payment Method, dtype: object\n"
     ]
    }
   ],
   "source": [
    "most_common_payment_method = data['Payment Method'].mode()\n",
    "print(\"Most Common Payment Method:\", most_common_payment_method)"
   ]
  },
  {
   "cell_type": "markdown",
   "id": "3d9e22d2",
   "metadata": {
    "papermill": {
     "duration": 0.054788,
     "end_time": "2023-10-18T04:47:53.935532",
     "exception": false,
     "start_time": "2023-10-18T04:47:53.880744",
     "status": "completed"
    },
    "tags": []
   },
   "source": [
    "<div style=\"padding:10px;\n",
    "            color:#E55604;\n",
    "            margin:10px;\n",
    "            font-size:130%;\n",
    "            display:fill;\n",
    "            border-radius:5px;\n",
    "            border-style: solid;\n",
    "            border-color: #FF9B50;\n",
    "            background-color:#000000;\n",
    "            overflow:hidden;\n",
    "            font-weight:400\"><b>What is the median purchase amount (USD) ?</b>\n",
    "</div>"
   ]
  },
  {
   "cell_type": "code",
   "execution_count": 24,
   "id": "aace0633",
   "metadata": {},
   "outputs": [
    {
     "name": "stdout",
     "output_type": "stream",
     "text": [
      "median_purcchase_amount:      60.0\n"
     ]
    }
   ],
   "source": [
    "median_purcchase_amount = data[\"Purchase Amount (USD)\"].median()\n",
    "print(\"median_purcchase_amount:     \",median_purcchase_amount)\n"
   ]
  },
  {
   "cell_type": "markdown",
   "id": "97f76c81",
   "metadata": {
    "papermill": {
     "duration": 0.055565,
     "end_time": "2023-10-18T04:47:54.644021",
     "exception": false,
     "start_time": "2023-10-18T04:47:54.588456",
     "status": "completed"
    },
    "tags": []
   },
   "source": [
    "<div style=\"padding:10px;\n",
    "            color:#E55604;\n",
    "            margin:10px;\n",
    "            font-size:130%;\n",
    "            display:fill;\n",
    "            border-radius:5px;\n",
    "            border-style: solid;\n",
    "            border-color: #FF9B50;\n",
    "            background-color:#000000;\n",
    "            overflow:hidden;\n",
    "            font-weight:400\"><b>What is the most common season for purchases ?</b></div>"
   ]
  },
  {
   "cell_type": "code",
   "execution_count": 29,
   "id": "c45d528f",
   "metadata": {
    "execution": {
     "iopub.execute_input": "2023-10-18T04:47:54.757017Z",
     "iopub.status.busy": "2023-10-18T04:47:54.756099Z",
     "iopub.status.idle": "2023-10-18T04:47:54.763472Z",
     "shell.execute_reply": "2023-10-18T04:47:54.762328Z"
    },
    "papermill": {
     "duration": 0.06615,
     "end_time": "2023-10-18T04:47:54.765551",
     "exception": false,
     "start_time": "2023-10-18T04:47:54.699401",
     "status": "completed"
    },
    "tags": []
   },
   "outputs": [
    {
     "name": "stdout",
     "output_type": "stream",
     "text": [
      "most_common_season_for_purchases    : Spring\n"
     ]
    }
   ],
   "source": [
    "most_common_season_for_purchases = data[\"Season\"].mode()[0]\n",
    "print(\"most_common_season_for_purchases    :\",most_common_season_for_purchases)"
   ]
  },
  {
   "cell_type": "markdown",
   "id": "cb5e8b50",
   "metadata": {
    "papermill": {
     "duration": 0.057895,
     "end_time": "2023-10-18T04:47:55.110242",
     "exception": false,
     "start_time": "2023-10-18T04:47:55.052347",
     "status": "completed"
    },
    "tags": []
   },
   "source": [
    "<div style=\"padding:10px;\n",
    "            color:#E55604;\n",
    "            margin:10px;\n",
    "            font-size:130%;\n",
    "            display:fill;\n",
    "            border-radius:5px;\n",
    "            border-style: solid;\n",
    "            border-color: #FF9B50;\n",
    "            background-color:#000000;\n",
    "            overflow:hidden;\n",
    "            font-weight:400\"><b>What is the average age of customers who made purchases in the Summer season ?</b>\n",
    "</div>"
   ]
  },
  {
   "cell_type": "code",
   "execution_count": 46,
   "id": "89591c37",
   "metadata": {
    "execution": {
     "iopub.execute_input": "2023-10-18T04:47:55.224387Z",
     "iopub.status.busy": "2023-10-18T04:47:55.223682Z",
     "iopub.status.idle": "2023-10-18T04:47:55.232095Z",
     "shell.execute_reply": "2023-10-18T04:47:55.230833Z"
    },
    "papermill": {
     "duration": 0.067561,
     "end_time": "2023-10-18T04:47:55.234167",
     "exception": false,
     "start_time": "2023-10-18T04:47:55.166606",
     "status": "completed"
    },
    "tags": []
   },
   "outputs": [
    {
     "data": {
      "text/plain": [
       "43.973821989528794"
      ]
     },
     "execution_count": 46,
     "metadata": {},
     "output_type": "execute_result"
    }
   ],
   "source": [
    "a=data[data[\"Season\"] == \"Summer\"][\"Age\"].mean()\n",
    "a\n"
   ]
  },
  {
   "cell_type": "markdown",
   "id": "7dfc7873",
   "metadata": {
    "papermill": {
     "duration": 0.054784,
     "end_time": "2023-10-18T04:47:55.578261",
     "exception": false,
     "start_time": "2023-10-18T04:47:55.523477",
     "status": "completed"
    },
    "tags": []
   },
   "source": [
    "<div style=\"padding:10px;\n",
    "            color:#E55604;\n",
    "            margin:10px;\n",
    "            font-size:130%;\n",
    "            display:fill;\n",
    "            border-radius:5px;\n",
    "            border-style: solid;\n",
    "            border-color: #FF9B50;\n",
    "            background-color:#000000;\n",
    "            overflow:hidden;\n",
    "            font-weight:400\"><b>What is the maximum and minimum review rating in the dataset ?</b></div>"
   ]
  },
  {
   "cell_type": "code",
   "execution_count": 48,
   "id": "cd732f7d",
   "metadata": {},
   "outputs": [
    {
     "name": "stdout",
     "output_type": "stream",
     "text": [
      "<class 'pandas.core.frame.DataFrame'>\n",
      "RangeIndex: 3900 entries, 0 to 3899\n",
      "Data columns (total 19 columns):\n",
      " #   Column                    Non-Null Count  Dtype  \n",
      "---  ------                    --------------  -----  \n",
      " 0   Customer ID               3900 non-null   int64  \n",
      " 1   Age                       3900 non-null   int64  \n",
      " 2   Gender                    3900 non-null   object \n",
      " 3   Item Purchased            3900 non-null   object \n",
      " 4   Category                  3900 non-null   object \n",
      " 5   Purchase Amount (USD)     3900 non-null   int64  \n",
      " 6   Location                  3900 non-null   object \n",
      " 7   Size                      3900 non-null   object \n",
      " 8   Color                     3900 non-null   object \n",
      " 9   Season                    3900 non-null   object \n",
      " 10  Review Rating             3900 non-null   float64\n",
      " 11  Subscription Status       3900 non-null   object \n",
      " 12  Payment Method            3900 non-null   object \n",
      " 13  Shipping Type             3900 non-null   object \n",
      " 14  Discount Applied          3900 non-null   object \n",
      " 15  Promo Code Used           3900 non-null   object \n",
      " 16  Previous Purchases        3900 non-null   int64  \n",
      " 17  Preferred Payment Method  3900 non-null   object \n",
      " 18  Frequency of Purchases    3900 non-null   object \n",
      "dtypes: float64(1), int64(4), object(14)\n",
      "memory usage: 579.0+ KB\n"
     ]
    }
   ],
   "source": [
    "data.info()"
   ]
  },
  {
   "cell_type": "code",
   "execution_count": 51,
   "id": "71989f48",
   "metadata": {
    "scrolled": true
   },
   "outputs": [
    {
     "data": {
      "text/plain": [
       "776     5.0\n",
       "1664    5.0\n",
       "1277    5.0\n",
       "2632    5.0\n",
       "965     5.0\n",
       "Name: Review Rating, dtype: float64"
      ]
     },
     "execution_count": 51,
     "metadata": {},
     "output_type": "execute_result"
    }
   ],
   "source": [
    "data[\"Review Rating\"].sort_values(ascending=False).head(5)   ## maximum rating"
   ]
  },
  {
   "cell_type": "code",
   "execution_count": 52,
   "id": "04f59b8a",
   "metadata": {},
   "outputs": [
    {
     "data": {
      "text/plain": [
       "1451    2.5\n",
       "3473    2.5\n",
       "1449    2.5\n",
       "133     2.5\n",
       "870     2.5\n",
       "Name: Review Rating, dtype: float64"
      ]
     },
     "execution_count": 52,
     "metadata": {},
     "output_type": "execute_result"
    }
   ],
   "source": [
    "data[\"Review Rating\"].sort_values(ascending=False).tail(5)  ## minimum review"
   ]
  },
  {
   "cell_type": "markdown",
   "id": "f8f3eb82",
   "metadata": {
    "papermill": {
     "duration": 0.055014,
     "end_time": "2023-10-18T04:47:56.051370",
     "exception": false,
     "start_time": "2023-10-18T04:47:55.996356",
     "status": "completed"
    },
    "tags": []
   },
   "source": [
    "<div style=\"padding:10px;\n",
    "            color:#E55604;\n",
    "            margin:10px;\n",
    "            font-size:130%;\n",
    "            display:fill;\n",
    "            border-radius:5px;\n",
    "            border-style: solid;\n",
    "            border-color: #FF9B50;\n",
    "            background-color:#000000;\n",
    "            overflow:hidden;\n",
    "            font-weight:400\"><b>How many customers have made more than 30 previous purchases ?</b>\n",
    "</div>"
   ]
  },
  {
   "cell_type": "code",
   "execution_count": 71,
   "id": "6657b520",
   "metadata": {},
   "outputs": [
    {
     "data": {
      "text/plain": [
       "1549"
      ]
     },
     "execution_count": 71,
     "metadata": {},
     "output_type": "execute_result"
    }
   ],
   "source": [
    "data1 = data[data[\"Previous Purchases\"]>30]\n",
    "len(data1)"
   ]
  },
  {
   "cell_type": "markdown",
   "id": "c4c4ffe5",
   "metadata": {
    "papermill": {
     "duration": 0.058549,
     "end_time": "2023-10-18T04:47:56.288399",
     "exception": false,
     "start_time": "2023-10-18T04:47:56.229850",
     "status": "completed"
    },
    "tags": []
   },
   "source": [
    "### What is the average purchase amount for customers who have made more than 30 previous purchases?\n"
   ]
  },
  {
   "cell_type": "code",
   "execution_count": 74,
   "id": "2cf4e064",
   "metadata": {},
   "outputs": [
    {
     "data": {
      "text/plain": [
       "60.02840542285345"
      ]
     },
     "execution_count": 74,
     "metadata": {},
     "output_type": "execute_result"
    }
   ],
   "source": [
    "data1 = data[data[\"Previous Purchases\"]>30]\n",
    "average_purchase_amount =data1 ['Purchase Amount (USD)'].mean()\n",
    "average_purchase_amount"
   ]
  },
  {
   "cell_type": "markdown",
   "id": "1a915d60",
   "metadata": {
    "papermill": {
     "duration": 0.057904,
     "end_time": "2023-10-18T04:47:57.723307",
     "exception": false,
     "start_time": "2023-10-18T04:47:57.665403",
     "status": "completed"
    },
    "tags": []
   },
   "source": [
    "### What is the total purchase amount for customers in each location?"
   ]
  },
  {
   "cell_type": "code",
   "execution_count": 84,
   "id": "465b0bc3",
   "metadata": {},
   "outputs": [
    {
     "data": {
      "text/plain": [
       "Location\n",
       "Alabama           5261\n",
       "Alaska            4867\n",
       "Arizona           4326\n",
       "Arkansas          4828\n",
       "California        5605\n",
       "Colorado          4222\n",
       "Connecticut       4226\n",
       "Delaware          4758\n",
       "Florida           3798\n",
       "Georgia           4645\n",
       "Hawaii            3752\n",
       "Idaho             5587\n",
       "Illinois          5617\n",
       "Indiana           4655\n",
       "Iowa              4201\n",
       "Kansas            3437\n",
       "Kentucky          4402\n",
       "Louisiana         4848\n",
       "Maine             4388\n",
       "Maryland          4795\n",
       "Massachusetts     4384\n",
       "Michigan          4533\n",
       "Minnesota         4977\n",
       "Mississippi       4883\n",
       "Missouri          4691\n",
       "Montana           5784\n",
       "Nebraska          5172\n",
       "Nevada            5514\n",
       "New Hampshire     4219\n",
       "New Jersey        3802\n",
       "New Mexico        5014\n",
       "New York          5257\n",
       "North Carolina    4742\n",
       "North Dakota      5220\n",
       "Ohio              4649\n",
       "Oklahoma          4376\n",
       "Oregon            4243\n",
       "Pennsylvania      4926\n",
       "Rhode Island      3871\n",
       "South Carolina    4439\n",
       "South Dakota      4236\n",
       "Tennessee         4772\n",
       "Texas             4712\n",
       "Utah              4443\n",
       "Vermont           4860\n",
       "Virginia          4842\n",
       "Washington        4623\n",
       "West Virginia     5174\n",
       "Wisconsin         4196\n",
       "Wyoming           4309\n",
       "Name: Purchase Amount (USD), dtype: int64"
      ]
     },
     "execution_count": 84,
     "metadata": {},
     "output_type": "execute_result"
    }
   ],
   "source": [
    "data.groupby(\"Location\")[\"Purchase Amount (USD)\"].sum()"
   ]
  },
  {
   "cell_type": "markdown",
   "id": "f20ddd4e",
   "metadata": {
    "papermill": {
     "duration": 0.087997,
     "end_time": "2023-10-18T04:48:00.465799",
     "exception": false,
     "start_time": "2023-10-18T04:48:00.377802",
     "status": "completed"
    },
    "tags": []
   },
   "source": [
    "### How many customers have made a purchase in each category?"
   ]
  },
  {
   "cell_type": "code",
   "execution_count": 89,
   "id": "937d4dcc",
   "metadata": {
    "execution": {
     "iopub.execute_input": "2023-10-18T04:48:00.648021Z",
     "iopub.status.busy": "2023-10-18T04:48:00.646931Z",
     "iopub.status.idle": "2023-10-18T04:48:00.654849Z",
     "shell.execute_reply": "2023-10-18T04:48:00.653529Z"
    },
    "papermill": {
     "duration": 0.101787,
     "end_time": "2023-10-18T04:48:00.657006",
     "exception": false,
     "start_time": "2023-10-18T04:48:00.555219",
     "status": "completed"
    },
    "tags": []
   },
   "outputs": [
    {
     "name": "stdout",
     "output_type": "stream",
     "text": [
      "Purchase Count by Category:\n",
      "Clothing       1737\n",
      "Accessories    1240\n",
      "Footwear        599\n",
      "Outerwear       324\n",
      "Name: Category, dtype: int64\n"
     ]
    }
   ],
   "source": [
    "purchase_count_by_category = data['Category'].value_counts()\n",
    "print(\"Purchase Count by Category:\")\n",
    "print(purchase_count_by_category)"
   ]
  },
  {
   "cell_type": "markdown",
   "id": "fbdf1fe8",
   "metadata": {
    "papermill": {
     "duration": 0.091659,
     "end_time": "2023-10-18T04:48:01.210767",
     "exception": false,
     "start_time": "2023-10-18T04:48:01.119108",
     "status": "completed"
    },
    "tags": []
   },
   "source": [
    "### What is the total purchase amount for each size of clothing items (XL, L, M, S)?"
   ]
  },
  {
   "cell_type": "code",
   "execution_count": 102,
   "id": "bc3d2f5d",
   "metadata": {},
   "outputs": [
    {
     "data": {
      "text/plain": [
       "Size\n",
       "L      61667\n",
       "M     105167\n",
       "S      40468\n",
       "XL     25779\n",
       "Name: Purchase Amount (USD), dtype: int64"
      ]
     },
     "execution_count": 102,
     "metadata": {},
     "output_type": "execute_result"
    }
   ],
   "source": [
    "size_wise = data.groupby(\"Size\")[\"Purchase Amount (USD)\"].sum()\n",
    "size_wise"
   ]
  }
 ],
 "metadata": {
  "kernelspec": {
   "display_name": "Python 3 (ipykernel)",
   "language": "python",
   "name": "python3"
  },
  "language_info": {
   "codemirror_mode": {
    "name": "ipython",
    "version": 3
   },
   "file_extension": ".py",
   "mimetype": "text/x-python",
   "name": "python",
   "nbconvert_exporter": "python",
   "pygments_lexer": "ipython3",
   "version": "3.11.5"
  },
  "papermill": {
   "default_parameters": {},
   "duration": 40.222738,
   "end_time": "2023-10-18T04:48:14.071284",
   "environment_variables": {},
   "exception": null,
   "input_path": "__notebook__.ipynb",
   "output_path": "__notebook__.ipynb",
   "parameters": {},
   "start_time": "2023-10-18T04:47:33.848546",
   "version": "2.4.0"
  }
 },
 "nbformat": 4,
 "nbformat_minor": 5
}
